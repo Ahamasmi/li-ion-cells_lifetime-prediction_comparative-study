{
 "cells": [
  {
   "cell_type": "code",
   "execution_count": null,
   "metadata": {},
   "outputs": [],
   "source": [
    "import pandas as pd\n",
    "import numpy as np\n",
    "from sklearn.model_selection import train_test_split\n",
    "from sklearn.model_selection import RandomizedSearchCV, GridSearchCV\n",
    "import sklearn.metrics \n",
    "from math import sqrt"
   ]
  },
  {
   "cell_type": "code",
   "execution_count": null,
   "metadata": {},
   "outputs": [],
   "source": [
    "data=pd.read_csv(\"master_df.csv\")"
   ]
  },
  {
   "cell_type": "code",
   "execution_count": null,
   "metadata": {},
   "outputs": [],
   "source": [
    "data"
   ]
  },
  {
   "cell_type": "code",
   "execution_count": null,
   "metadata": {},
   "outputs": [],
   "source": [
    "cell_name=list(data[\"cell_num\"].unique())\n",
    "print(cell_name)"
   ]
  },
  {
   "cell_type": "code",
   "execution_count": null,
   "metadata": {},
   "outputs": [],
   "source": [
    "data.set_index(\"cell_num\",inplace=True)"
   ]
  },
  {
   "cell_type": "code",
   "execution_count": null,
   "metadata": {},
   "outputs": [],
   "source": [
    "group_data=data.groupby([\"cell_num\"])"
   ]
  },
  {
   "cell_type": "code",
   "execution_count": null,
   "metadata": {},
   "outputs": [],
   "source": [
    "X=[]\n",
    "Y=[]\n",
    "for i in cell_name:\n",
    "    if(i not in ['b3c7', 'b3c16', 'b3c37', 'b3c44']):\n",
    "        temp_data=group_data.get_group(i).head(75)\n",
    "        temp_data=temp_data.drop([\"cycle_life\"],axis=1)\n",
    "        x1=[]\n",
    "        for j in range(len(temp_data)):\n",
    "            x1.append(list(temp_data.iloc[j]))\n",
    "        X.append(x1)\n",
    "        Y.append(int(data.loc[i,\"cycle_life\"].head(1)))\n",
    "    \n",
    "print(X[0][0:2])\n",
    "print(Y[0:2])"
   ]
  },
  {
   "cell_type": "code",
   "execution_count": null,
   "metadata": {},
   "outputs": [],
   "source": [
    "print(len(X),len(Y))"
   ]
  },
  {
   "cell_type": "code",
   "execution_count": null,
   "metadata": {},
   "outputs": [],
   "source": [
    "X=np.array(X)\n",
    "X.shape"
   ]
  },
  {
   "cell_type": "code",
   "execution_count": null,
   "metadata": {},
   "outputs": [],
   "source": [
    "\n",
    "X=np.reshape(X,(len(X),75*7))"
   ]
  },
  {
   "cell_type": "code",
   "execution_count": null,
   "metadata": {},
   "outputs": [],
   "source": [
    "from sklearn.preprocessing import StandardScaler\n",
    "sc_x = StandardScaler()\n",
    "sc_y = StandardScaler()\n",
    "# Scale x and y (two scale objects)\n",
    "X = sc_x.fit_transform(X)\n",
    "Y = np.array(Y)\n",
    "Y = sc_y.fit_transform(Y.reshape(-1, 1))\n",
    "X_train, X_test, Y_train, Y_test,= train_test_split(X,Y,test_size=0.3,random_state=0)"
   ]
  },
  {
   "cell_type": "code",
   "execution_count": null,
   "metadata": {},
   "outputs": [],
   "source": [
    "print(\"X_train:\",len(X_train))\n",
    "print(\"X_test:\",len(X_test))\n",
    "print(\"Y_train:\",len(Y_train))\n",
    "print(\"Y_test:\",len(Y_test))"
   ]
  },
  {
   "cell_type": "code",
   "execution_count": null,
   "metadata": {},
   "outputs": [],
   "source": [
    "from sklearn.ensemble import RandomForestRegressor\n",
    "regressor=RandomForestRegressor()"
   ]
  },
  {
   "cell_type": "code",
   "execution_count": null,
   "metadata": {},
   "outputs": [],
   "source": [
    "# Number of trees in random forest\n",
    "n_estimators = [5, 10, 25, 50]\n",
    "# Number of features to consider at every split\n",
    "max_features = ['log2', 'sqrt']\n",
    "# Maximum number of levels in tree\n",
    "max_depth = [3, 5, 10, 15, 20]\n",
    "# max_depth.append(None)\n",
    "criterion=['squared_error', 'absolute_error', 'poisson']\n",
    "bootstrap=[ True, False]\n",
    "# Minimum number of samples required to split a node\n",
    "min_samples_split = [2, 5, 10, 15, 20]\n",
    "# Minimum number of samples required at each leaf node\n",
    "min_samples_leaf = [1, 2, 5, 10]\n",
    "# Create the random grid\n",
    "random_grid = {'n_estimators': n_estimators,\n",
    "               'max_features': max_features,\n",
    "               'max_depth': max_depth,\n",
    "               'min_samples_split': min_samples_split,\n",
    "               'min_samples_leaf': min_samples_leaf,\n",
    "               'criterion':criterion,\n",
    "               'bootstrap':bootstrap\n",
    "               }\n",
    "\n",
    "print(random_grid)"
   ]
  },
  {
   "cell_type": "code",
   "execution_count": null,
   "metadata": {},
   "outputs": [],
   "source": [
    "flag=1\n",
    "import warnings\n",
    "from tqdm import tqdm\n",
    "warnings.simplefilter(action='ignore')\n",
    "def test():\n",
    "        MAPE_min=100.0\n",
    "        best_rs=0\n",
    "        for mf in tqdm([2,3,5,7,10,75]):\n",
    "                prm = {'bootstrap': True, 'ccp_alpha': 0.0, 'criterion': 'squared_error', 'max_depth' :None , 'max_leaf_nodes': None, 'max_samples': None, 'min_impurity_decrease': 0.0,\n",
    "                        'min_samples_leaf': 1, 'min_samples_split': 2, 'min_weight_fraction_leaf': 0.0, 'random_state': 6, 'n_estimators':35, 'n_jobs': None, 'oob_score': False,  'verbose': 0, 'warm_start': False}\n",
    "                rf = RandomForestRegressor(**prm,max_features=mf )\n",
    "                rf_random = rf\n",
    "                rf_random.fit(X_train, Y_train)\n",
    "                pred = rf_random.predict(X_test)\n",
    "                pred_ = sc_y.inverse_transform(pred.reshape(-1, 1))\n",
    "                Y_test_ = sc_y.inverse_transform(Y_test.reshape(-1, 1))\n",
    "                MAPE = sklearn.metrics.mean_absolute_percentage_error(Y_test_, pred)\n",
    "                # print(MAPE)\n",
    "                if(MAPE_min>MAPE):\n",
    "                        MAPE_min=MAPE\n",
    "                        best_rs=mf\n",
    "        print(best_rs)\n",
    "# if(not flag):\n",
    "#         test()\n",
    "# rf_random = RandomizedSearchCV(estimator = rf, param_distributions = random_grid,scoring='neg_mean_squared_error', n_iter =10, cv = 5, verbose=2, random_state=42, n_jobs = 8)\n",
    "# rf_random = GridSearchCV(rf ,random_grid,cv=4,scoring='accuracy', verbose=10, n_jobs=8)\n",
    "   "
   ]
  },
  {
   "cell_type": "code",
   "execution_count": null,
   "metadata": {},
   "outputs": [],
   "source": [
    "if(flag):\n",
    "        prm = {'bootstrap': True, 'ccp_alpha': 0.0, 'criterion': 'squared_error', 'max_depth': None, 'max_features': 'auto', 'max_leaf_nodes': None, 'max_samples': None, 'min_impurity_decrease': 0.0,\n",
    "                'min_samples_leaf': 1, 'min_samples_split': 2, 'min_weight_fraction_leaf': 0.0, 'n_estimators': 35, 'n_jobs': None, 'oob_score': False, 'random_state': 6, 'verbose': 0, 'warm_start': False}\n",
    "        rf = RandomForestRegressor(**prm)\n",
    "        # rf_random = RandomizedSearchCV(estimator = rf, param_distributions = random_grid,scoring='neg_mean_squared_error', n_iter =10, cv = 5, verbose=2, random_state=42, n_jobs = 8)\n",
    "        # rf_random = GridSearchCV(rf ,random_grid,cv=4,scoring='accuracy', verbose=10, n_jobs=8)\n",
    "        rf_random=rf\n",
    "        rf_random.fit(X_train,Y_train)"
   ]
  },
  {
   "cell_type": "code",
   "execution_count": null,
   "metadata": {},
   "outputs": [],
   "source": [
    "if(flag):   \n",
    "    print(rf_random.get_params())"
   ]
  },
  {
   "cell_type": "code",
   "execution_count": null,
   "metadata": {},
   "outputs": [],
   "source": [
    "if(flag):\n",
    "    pred=rf_random.predict(X_test)\n",
    "    pred = sc_y.inverse_transform(pred.reshape(-1, 1))\n",
    "    Y_test = sc_y.inverse_transform(Y_test.reshape(-1, 1))\n",
    "    print(Y_test[0:2])\n",
    "    print(pred[0:2])\n",
    "    mean_absolute_percentage_error=sklearn.metrics.mean_absolute_percentage_error(Y_test,pred)\n",
    "    mean_absolute_error=sklearn.metrics.mean_absolute_error(Y_test,pred)\n",
    "    mean_sqaured_error=sklearn.metrics.mean_squared_error(Y_test,pred,squared=True)\n",
    "    root_mean_sqaured_error=sklearn.metrics.mean_squared_error(Y_test,pred,squared=False)"
   ]
  },
  {
   "cell_type": "code",
   "execution_count": null,
   "metadata": {},
   "outputs": [],
   "source": [
    "if(flag):\n",
    "    print(\"MAPE:\",mean_absolute_percentage_error*100,\"%\")\n",
    "    print(\"MAE:\",mean_absolute_error)\n",
    "    print(\"MSE:\",mean_sqaured_error)\n",
    "    print(\"RMSE:\",root_mean_sqaured_error)"
   ]
  },
  {
   "cell_type": "code",
   "execution_count": null,
   "metadata": {},
   "outputs": [],
   "source": [
    "# print(\"y_actual y_pred diff\")\n",
    "# for i in range(len(Y_test)):\n",
    "#     print(Y_test[i],pred[i],(abs(Y_test[i]-pred[i])/Y_test[i])*100)"
   ]
  },
  {
   "cell_type": "code",
   "execution_count": null,
   "metadata": {},
   "outputs": [],
   "source": [
    "import matplotlib.pyplot as plt\n",
    "def predvsactual():\n",
    "    fig = plt.figure(figsize=(12, 5))\n",
    "    markerline1, stemlines1, baseline1 = plt.stem(Y_test)\n",
    "    markerline1.set_markerfacecolor('red')\n",
    "    markerline, stemlines, baseline = plt.stem(pred)\n",
    "    markerline.set_markerfacecolor('blue')\n",
    "    plt.legend(['Actual_cycle_life', 'Predicted_cycle_life'])\n",
    "    plt.xlabel('Cells')\n",
    "    plt.ylabel('Cycle Life')\n",
    "    plt.show()\n",
    "    \n",
    "predvsactual()\n"
   ]
  },
  {
   "cell_type": "code",
   "execution_count": null,
   "metadata": {},
   "outputs": [],
   "source": []
  }
 ],
 "metadata": {
  "interpreter": {
   "hash": "63fd5069d213b44bf678585dea6b12cceca9941eaf7f819626cde1f2670de90d"
  },
  "kernelspec": {
   "display_name": "Python 3.9.6 64-bit",
   "name": "python3"
  },
  "language_info": {
   "codemirror_mode": {
    "name": "ipython",
    "version": 3
   },
   "file_extension": ".py",
   "mimetype": "text/x-python",
   "name": "python",
   "nbconvert_exporter": "python",
   "pygments_lexer": "ipython3",
   "version": "3.9.6"
  }
 },
 "nbformat": 4,
 "nbformat_minor": 5
}
