{
 "cells": [
  {
   "cell_type": "code",
   "execution_count": null,
   "metadata": {},
   "outputs": [],
   "source": [
    "import pandas as pd\n",
    "import numpy as np\n",
    "from sklearn.model_selection import train_test_split\n",
    "from sklearn.model_selection import RandomizedSearchCV, GridSearchCV\n",
    "from sklearn.pipeline import Pipeline\n",
    "import sklearn.metrics \n",
    "from math import sqrt"
   ]
  },
  {
   "cell_type": "code",
   "execution_count": null,
   "metadata": {},
   "outputs": [],
   "source": [
    "data=pd.read_csv(\"master_df.csv\")"
   ]
  },
  {
   "cell_type": "code",
   "execution_count": null,
   "metadata": {},
   "outputs": [],
   "source": [
    "data"
   ]
  },
  {
   "cell_type": "code",
   "execution_count": null,
   "metadata": {},
   "outputs": [],
   "source": [
    "cell_name=list(data[\"cell_num\"].unique())\n",
    "print(cell_name)"
   ]
  },
  {
   "cell_type": "code",
   "execution_count": null,
   "metadata": {},
   "outputs": [],
   "source": [
    "data.set_index(\"cell_num\",inplace=True)"
   ]
  },
  {
   "cell_type": "code",
   "execution_count": null,
   "metadata": {},
   "outputs": [],
   "source": [
    "group_data=data.groupby([\"cell_num\"])"
   ]
  },
  {
   "cell_type": "code",
   "execution_count": null,
   "metadata": {},
   "outputs": [],
   "source": [
    "X=[]\n",
    "Y=[]\n",
    "for i in cell_name:\n",
    "    if(i not in ['b3c7', 'b3c16', 'b3c37', 'b3c44']):\n",
    "        temp_data=group_data.get_group(i).head(75)\n",
    "        temp_data=temp_data.drop([\"cycle_life\"],axis=1)\n",
    "        x1=[]\n",
    "        for j in range(len(temp_data)):\n",
    "            x1.append(list(temp_data.iloc[j]))\n",
    "        X.append(x1)\n",
    "        Y.append(int(data.loc[i,\"cycle_life\"].head(1)))\n",
    "    \n",
    "\n",
    "print(X[0][0:2])\n",
    "print(Y[0:2])"
   ]
  },
  {
   "cell_type": "code",
   "execution_count": null,
   "metadata": {},
   "outputs": [],
   "source": [
    "print(len(X),len(Y))"
   ]
  },
  {
   "cell_type": "code",
   "execution_count": null,
   "metadata": {},
   "outputs": [],
   "source": [
    "X=np.reshape(X,(len(X),75*7))"
   ]
  },
  {
   "cell_type": "code",
   "execution_count": null,
   "metadata": {},
   "outputs": [],
   "source": [
    "from sklearn.preprocessing import StandardScaler\n",
    "sc_x = StandardScaler()\n",
    "sc_y = StandardScaler()\n",
    "# Scale x and y (two scale objects)\n",
    "X = sc_x.fit_transform(X)\n",
    "Y = np.array(Y)\n",
    "Y = sc_y.fit_transform(Y.reshape(-1, 1))\n",
    "X_train, X_test, Y_train, Y_test,= train_test_split(X,Y,test_size=0.3,random_state=0)"
   ]
  },
  {
   "cell_type": "code",
   "execution_count": null,
   "metadata": {},
   "outputs": [],
   "source": [
    "print(\"X_train:\",len(X_train))\n",
    "print(\"X_test:\",len(X_test))\n",
    "print(\"Y_train:\",len(Y_train))\n",
    "print(\"Y_test:\",len(Y_test))"
   ]
  },
  {
   "cell_type": "code",
   "execution_count": null,
   "metadata": {},
   "outputs": [],
   "source": [
    "from sklearn.ensemble import ExtraTreesRegressor\n",
    "reg_decision_model=sklearn.ensemble.ExtraTreesRegressor()"
   ]
  },
  {
   "cell_type": "code",
   "execution_count": null,
   "metadata": {},
   "outputs": [],
   "source": [
    "#fixed good parameters\n",
    "\n",
    "prm = {'bootstrap': False,\n",
    "         'ccp_alpha': 0.0,\n",
    "         'criterion': 'squared_error',\n",
    "         'max_depth': None,\n",
    "         'max_features': 'auto',\n",
    "         'max_leaf_nodes': None,\n",
    "         'max_samples': None,\n",
    "         'min_impurity_decrease': 0.0,\n",
    "         'min_samples_leaf': 1,\n",
    "         'min_samples_split': 2,\n",
    "         'min_weight_fraction_leaf': 0.0,\n",
    "         'n_estimators': 100,\n",
    "         'n_jobs': None,\n",
    "         'oob_score': False,\n",
    "         'random_state': 2,\n",
    "         'verbose': 0,\n",
    "         'warm_start': False}\n",
    "\n",
    "#Testing params for GridsearchCV\n",
    "prm_space={\n",
    "    'bootstrap': [True],\n",
    "    'ccp_alpha': [0.0,0.1,0.2],\n",
    "    'criterion': ['squared_error', 'absolute_error'],\n",
    "    'max_depth': [None],\n",
    "    'max_features': ['auto'],\n",
    "    'max_leaf_nodes': [None],\n",
    "    'max_samples': [None],\n",
    "    'min_impurity_decrease': [0.0],\n",
    "    'min_samples_leaf': [1],\n",
    "    'min_samples_split': [2],\n",
    "    'min_weight_fraction_leaf': [0.0],\n",
    "    'n_estimators': [25,50,75,100],\n",
    "    'random_state': [0],\n",
    "    'verbose': [1],\n",
    "    'n_jobs': [10],\n",
    "    'warm_start': [False]\n",
    "}"
   ]
  },
  {
   "cell_type": "code",
   "execution_count": null,
   "metadata": {},
   "outputs": [],
   "source": [
    "from sklearn.model_selection import GridSearchCV\n",
    "import warnings\n",
    "warnings.simplefilter(action='ignore')\n",
    "reg_decision_model = sklearn.ensemble.ExtraTreesRegressor(**prm)    \n",
    "rf_random = reg_decision_model\n",
    "#################################################33\n",
    "# clf = Pipeline(steps = [ ('preprocessor', bundle_preprocess), ('model', reg_decision_model) ])\n",
    "# rf_random = RandomizedSearchCV(clf, param_distributions = random_grid, n_iter = 10, cv = 3, verbose=2, random_state=42, n_jobs = -1)\n",
    "# rf_random.fit(X_train, Y_train)\n",
    "# reg_decision_model = sklearn.ensemble.ExtraTreesRegressor()\n",
    "# rf_random = GridSearchCV(estimator=reg_decision_model, param_grid=prm_space, scoring='neg_root_mean_squared_error', cv=5, verbose=10, n_jobs=10)\n",
    "\n",
    "\n",
    "rf_random=rf_random.fit(X_train,Y_train)\n",
    "# print(rf_random.best_score_)\n",
    "# print(rf_random.best_params_)\n",
    "#best_params=rf_random.best_params_"
   ]
  },
  {
   "cell_type": "code",
   "execution_count": null,
   "metadata": {},
   "outputs": [],
   "source": [
    "rf_random.get_params()"
   ]
  },
  {
   "cell_type": "code",
   "execution_count": null,
   "metadata": {},
   "outputs": [],
   "source": [
    "pred=rf_random.predict(X_test)\n",
    "pred = sc_y.inverse_transform(pred.reshape(-1, 1))\n",
    "Y_test = sc_y.inverse_transform(Y_test.reshape(-1, 1))\n",
    "print(Y[0:2])\n",
    "print(pred[0:2])\n",
    "mean_absolute_percentage_error=sklearn.metrics.mean_absolute_percentage_error(Y_test,pred)\n",
    "mean_absolute_error=sklearn.metrics.mean_absolute_error(Y_test,pred)\n",
    "mean_sqaured_error=sklearn.metrics.mean_squared_error(Y_test,pred,squared=True)\n",
    "root_mean_sqaured_error=sklearn.metrics.mean_squared_error(Y_test,pred,squared=False)"
   ]
  },
  {
   "cell_type": "code",
   "execution_count": null,
   "metadata": {},
   "outputs": [],
   "source": [
    "print(\"MAPE:\",mean_absolute_percentage_error*100,\"%\")\n",
    "print(\"MAE:\",mean_absolute_error)\n",
    "print(\"MSE:\",mean_sqaured_error)\n",
    "print(\"RMSE:\",root_mean_sqaured_error)"
   ]
  },
  {
   "cell_type": "code",
   "execution_count": null,
   "metadata": {},
   "outputs": [],
   "source": [
    "import matplotlib.pyplot as plt\n",
    "def predvsactual():\n",
    "    fig = plt.figure(figsize=(12, 5))\n",
    "    markerline1, stemlines1, baseline1 = plt.stem(Y_test)\n",
    "    markerline1.set_markerfacecolor('red')\n",
    "    markerline, stemlines, baseline = plt.stem(pred)\n",
    "    markerline.set_markerfacecolor('blue')\n",
    "    plt.legend(['Actual_cycle_life', 'Predicted_cycle_life'])\n",
    "    plt.xlabel('Cells')\n",
    "    plt.ylabel('Cycle Life')\n",
    "    plt.show()\n",
    "\n",
    "predvsactual()\n"
   ]
  },
  {
   "cell_type": "code",
   "execution_count": null,
   "metadata": {},
   "outputs": [],
   "source": [
    "print(\"y_actual y_pred diff\")\n",
    "for i in range(len(Y_test)):\n",
    "    print(Y_test[i],pred[i],(abs(Y_test[i]-pred[i])/Y_test[i])*100)"
   ]
  },
  {
   "cell_type": "code",
   "execution_count": null,
   "metadata": {},
   "outputs": [],
   "source": []
  },
  {
   "cell_type": "code",
   "execution_count": null,
   "metadata": {},
   "outputs": [],
   "source": []
  }
 ],
 "metadata": {
  "interpreter": {
   "hash": "63fd5069d213b44bf678585dea6b12cceca9941eaf7f819626cde1f2670de90d"
  },
  "kernelspec": {
   "display_name": "Python 3.9.6 64-bit",
   "name": "python3"
  },
  "language_info": {
   "codemirror_mode": {
    "name": "ipython",
    "version": 3
   },
   "file_extension": ".py",
   "mimetype": "text/x-python",
   "name": "python",
   "nbconvert_exporter": "python",
   "pygments_lexer": "ipython3",
   "version": "3.9.6"
  }
 },
 "nbformat": 4,
 "nbformat_minor": 5
}
