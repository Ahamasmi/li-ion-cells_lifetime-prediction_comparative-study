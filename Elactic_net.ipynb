{
 "cells": [
  {
   "cell_type": "code",
   "execution_count": null,
   "metadata": {},
   "outputs": [],
   "source": [
    "import pandas as pd\n",
    "import numpy as np\n",
    "from sklearn.model_selection import train_test_split\n",
    "from sklearn.linear_model import ElasticNet\n",
    "from sklearn.model_selection import cross_val_score\n",
    "from sklearn.model_selection import RepeatedKFold\n",
    "from numpy import absolute,mean,std\n"
   ]
  },
  {
   "cell_type": "code",
   "execution_count": null,
   "metadata": {},
   "outputs": [],
   "source": [
    "data = pd.read_csv('master_df.csv')\n",
    "data.head()\n"
   ]
  },
  {
   "cell_type": "code",
   "execution_count": null,
   "metadata": {},
   "outputs": [],
   "source": [
    "cell_name = list(data[\"cell_num\"].unique())\n",
    "print(cell_name)\n"
   ]
  },
  {
   "cell_type": "code",
   "execution_count": null,
   "metadata": {},
   "outputs": [],
   "source": [
    "data.set_index(\"cell_num\",inplace=True)"
   ]
  },
  {
   "cell_type": "code",
   "execution_count": null,
   "metadata": {},
   "outputs": [],
   "source": [
    "group_data=data.groupby([\"cell_num\"])"
   ]
  },
  {
   "cell_type": "code",
   "execution_count": null,
   "metadata": {},
   "outputs": [],
   "source": [
    "X = []\n",
    "Y = []\n",
    "for i in cell_name:\n",
    "    if(i not in ['b3c7', 'b3c16', 'b3c37', 'b3c44']):\n",
    "        temp_data = group_data.get_group(i).head(75)\n",
    "        temp_data = temp_data.drop([\"cycle_life\"], axis=1)\n",
    "        x1 = []\n",
    "        for j in range(len(temp_data)):\n",
    "            x1.append(list(temp_data.iloc[j]))\n",
    "        X.append(x1)\n",
    "        Y.append(int(data.loc[i, \"cycle_life\"].head(1)))\n",
    "\n",
    "\n",
    "print(X[0][0:2])\n",
    "print(Y[0:2])\n"
   ]
  },
  {
   "cell_type": "code",
   "execution_count": null,
   "metadata": {},
   "outputs": [],
   "source": [
    "print(len(X),len(Y))"
   ]
  },
  {
   "cell_type": "code",
   "execution_count": null,
   "metadata": {},
   "outputs": [],
   "source": [
    "X = np.array(X)\n",
    "X.shape\n"
   ]
  },
  {
   "cell_type": "code",
   "execution_count": null,
   "metadata": {},
   "outputs": [],
   "source": [
    "X=np.reshape(X,(len(X),75*7))"
   ]
  },
  {
   "cell_type": "code",
   "execution_count": null,
   "metadata": {},
   "outputs": [],
   "source": [
    "from sklearn.preprocessing import StandardScaler\n",
    "sc_x = StandardScaler()\n",
    "sc_y = StandardScaler()\n",
    "# Scale x and y (two scale objects)\n",
    "X = sc_x.fit_transform(X)\n",
    "Y = np.array(Y)\n",
    "Y = sc_y.fit_transform(Y.reshape(-1, 1))\n",
    "X_train, X_test, Y_train, Y_test,= train_test_split(X,Y,test_size=0.3,random_state=0)"
   ]
  },
  {
   "cell_type": "code",
   "execution_count": null,
   "metadata": {},
   "outputs": [],
   "source": [
    "# import warnings\n",
    "# warnings.filterwarnings(\"ignore\")\n",
    "import sklearn.metrics\n",
    "from math import sqrt\n",
    "\n",
    "\n",
    "model = ElasticNet(alpha=0.001432, l1_ratio=0.605,\n",
    "                   fit_intercept=False, random_state=0, tol=0.0001)\n",
    "model.fit(X_train, Y_train)\n",
    "Y_pred = model.predict(X_test)\n",
    "pred = Y_pred\n",
    "pred = sc_y.inverse_transform(pred.reshape(-1, 1))\n",
    "Y_test = sc_y.inverse_transform(Y_test.reshape(-1, 1))\n",
    "# print(Y_test[0:2])\n",
    "# print(pred[0:2])\n",
    "mean_absolute_percentage_error = sklearn.metrics.mean_absolute_percentage_error(\n",
    "    Y_test, pred)\n",
    "mean_absolute_error = sklearn.metrics.mean_absolute_error(Y_test, pred)\n",
    "mean_sqaured_error = sklearn.metrics.mean_squared_error(\n",
    "    Y_test, pred, squared=True)\n",
    "root_mean_sqaured_error = sklearn.metrics.mean_squared_error(\n",
    "    Y_test, pred, squared=False)\n",
    "\n",
    "print(\"MAPE:\", mean_absolute_percentage_error*100, \"%\")\n",
    "print(\"MAE:\", mean_absolute_error)\n",
    "print(\"MSE:\", mean_sqaured_error)\n",
    "print(\"RMSE:\", root_mean_sqaured_error)\n",
    "\n",
    "\n"
   ]
  },
  {
   "cell_type": "code",
   "execution_count": null,
   "metadata": {},
   "outputs": [],
   "source": [
    "import matplotlib.pyplot as plt\n",
    "\n",
    "def predvsactual():\n",
    "    fig = plt.figure(figsize=(12, 5))\n",
    "    markerline1, stemlines1, baseline1 = plt.stem(Y_test)\n",
    "    markerline1.set_markerfacecolor('red')\n",
    "    markerline, stemlines, baseline = plt.stem(pred)\n",
    "    markerline.set_markerfacecolor('blue')\n",
    "    plt.legend(['Actual_cycle_life', 'Predicted_cycle_life'])\n",
    "    plt.xlabel('Cells')\n",
    "    plt.ylabel('Cycle Life')\n",
    "    plt.show()\n",
    "\n",
    "\n",
    "predvsactual()\n"
   ]
  }
 ],
 "metadata": {
  "interpreter": {
   "hash": "199089e1554388a5caf5ffe9b7131bce820d209b5168f18fbe9f8dae02d6a298"
  },
  "kernelspec": {
   "display_name": "Python 3.9.7 ('workaround')",
   "language": "python",
   "name": "python3"
  },
  "language_info": {
   "codemirror_mode": {
    "name": "ipython",
    "version": 3
   },
   "file_extension": ".py",
   "mimetype": "text/x-python",
   "name": "python",
   "nbconvert_exporter": "python",
   "pygments_lexer": "ipython3",
   "version": "3.9.6"
  },
  "orig_nbformat": 4
 },
 "nbformat": 4,
 "nbformat_minor": 2
}
